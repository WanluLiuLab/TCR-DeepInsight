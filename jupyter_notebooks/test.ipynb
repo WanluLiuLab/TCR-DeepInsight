{
 "cells": [
  {
   "cell_type": "code",
   "execution_count": 1,
   "metadata": {},
   "outputs": [
    {
     "name": "stdout",
     "output_type": "stream",
     "text": [
      "/Users/snow/Documents/wd/TCR-DeepInsight\n"
     ]
    }
   ],
   "source": [
    "cd .."
   ]
  },
  {
   "cell_type": "code",
   "execution_count": 14,
   "metadata": {},
   "outputs": [],
   "source": [
    "from tcr_deep_insight.model.modeling_bert._model import (\n",
    "    TRabModelingBertForPseudoSequence,\n",
    "    TCRpMHCPairAttention\n",
    ")\n",
    "from tcr_deep_insight.model.tokenizers._tokenizer import (\n",
    "    tokenize_tcr_pseudo_sequence_to_fixed_length, \n",
    "    trab_tokenizer_for_pseudosequence,\n",
    "    tokenize_to_fixed_length\n",
    ")\n",
    "from tcr_deep_insight.model.modeling_bert._collator import AminoAcidsCollator\n",
    "from tcr_deep_insight.model.modeling_bert._config import get_human_config\n",
    "from tcr_deep_insight.utils._tcr_definitions import TCR\n",
    "\n",
    "config = get_human_config(bert_type=\"tiny\", vocab_size=36)"
   ]
  },
  {
   "cell_type": "code",
   "execution_count": 3,
   "metadata": {},
   "outputs": [],
   "source": [
    "df = pd.read_parquet(\n",
    "    \"/Volumes/rsch/TCRFoldAndDock/TCRGen//merged_clean_trb.2.pseudosequence.mait.parquet\"\n",
    ")"
   ]
  },
  {
   "cell_type": "code",
   "execution_count": null,
   "metadata": {},
   "outputs": [],
   "source": [
    "import torch\n",
    "sequence = df[\"pseudosequence\"][0]\n",
    "sequence, input_ids, attention_mask = tokenize_tcr_pseudo_sequence_to_fixed_length(sequence)\n",
    "input_ids = np.array(input_ids)\n",
    "attention_mask = np.array(attention_mask)\n"
   ]
  },
  {
   "cell_type": "code",
   "execution_count": 4,
   "metadata": {},
   "outputs": [],
   "source": [
    "model = TRabModelingBertForPseudoSequence(bert_config=config)"
   ]
  },
  {
   "cell_type": "code",
   "execution_count": 5,
   "metadata": {},
   "outputs": [],
   "source": [
    "collator = AminoAcidsCollator(\n",
    "    mask_token_id=4,\n",
    "    max_length=100,\n",
    "    mlm_probability=0.15,\n",
    ")"
   ]
  },
  {
   "cell_type": "code",
   "execution_count": null,
   "metadata": {},
   "outputs": [],
   "source": [
    "input_ids_mlm, attention_mask_mlm = collator(input_ids[None,:], attention_mask[None,:])\n",
    "input_ids_mlm = torch.tensor(input_ids_mlm)\n",
    "attention_mask_mlm = torch.tensor(attention_mask_mlm)\n",
    "input_ids = torch.tensor(input_ids).unsqueeze(0)\n",
    "attention_mask = torch.tensor(attention_mask).unsqueeze(0)"
   ]
  },
  {
   "cell_type": "code",
   "execution_count": 7,
   "metadata": {},
   "outputs": [],
   "source": [
    "import pickle\n",
    "with open(\"/Volumes/rsch/TCRFoldAndDock/TCRFold/processed_pairing_data/6amu_human_tcr_only_6amu_human_pmhc_only_A02:01.pkl\", \"rb\") as f:\n",
    "    data = pickle.load(f)"
   ]
  },
  {
   "cell_type": "code",
   "execution_count": 13,
   "metadata": {},
   "outputs": [
    {
     "ename": "AttributeError",
     "evalue": "'TCR' object has no attribute 'alpha_j_motif'",
     "output_type": "error",
     "traceback": [
      "\u001b[0;31m---------------------------------------------------------------------------\u001b[0m",
      "\u001b[0;31mAttributeError\u001b[0m                            Traceback (most recent call last)",
      "Input \u001b[0;32mIn [13]\u001b[0m, in \u001b[0;36m<module>\u001b[0;34m\u001b[0m\n\u001b[0;32m----> 1\u001b[0m \u001b[43mTCR\u001b[49m\u001b[43m(\u001b[49m\u001b[43mdata\u001b[49m\u001b[43m[\u001b[49m\u001b[38;5;124;43m'\u001b[39;49m\u001b[38;5;124;43mtcr_sequence\u001b[39;49m\u001b[38;5;124;43m'\u001b[39;49m\u001b[43m]\u001b[49m\u001b[43m)\u001b[49m\n",
      "File \u001b[0;32m~/Documents/wd/TCR-DeepInsight/tcr_deep_insight/utils/_tcr_definitions.py:1582\u001b[0m, in \u001b[0;36mTCR.__init__\u001b[0;34m(self, alpha_sequence, beta_sequence, species, alpha_cdr3, beta_cdr3, alpha_v_gene, alpha_j_gene, beta_v_gene, beta_j_gene, kalign_binary_path, alpha_mmcif_feature_dict, beta_mmcif_feature_dict)\u001b[0m\n\u001b[1;32m   1579\u001b[0m     \u001b[38;5;28mself\u001b[39m\u001b[38;5;241m.\u001b[39mimpute_j_gene()\n\u001b[1;32m   1581\u001b[0m \u001b[38;5;28;01mif\u001b[39;00m \u001b[38;5;28mself\u001b[39m\u001b[38;5;241m.\u001b[39malpha_sequence:\n\u001b[0;32m-> 1582\u001b[0m     \u001b[38;5;28mself\u001b[39m\u001b[38;5;241m.\u001b[39malpha_cdr3 \u001b[38;5;241m=\u001b[39m \u001b[38;5;28;43mself\u001b[39;49m\u001b[38;5;241;43m.\u001b[39;49m\u001b[43mfetch_cdr3a\u001b[49m\u001b[43m(\u001b[49m\u001b[38;5;28;43mself\u001b[39;49m\u001b[38;5;241;43m.\u001b[39;49m\u001b[43malpha_sequence\u001b[49m\u001b[43m)\u001b[49m\n\u001b[1;32m   1583\u001b[0m \u001b[38;5;28;01mif\u001b[39;00m \u001b[38;5;28mself\u001b[39m\u001b[38;5;241m.\u001b[39mbeta_sequence:\n\u001b[1;32m   1584\u001b[0m     \u001b[38;5;28mself\u001b[39m\u001b[38;5;241m.\u001b[39mbeta_cdr3 \u001b[38;5;241m=\u001b[39m \u001b[38;5;28mself\u001b[39m\u001b[38;5;241m.\u001b[39mfetch_cdr3b(\u001b[38;5;28mself\u001b[39m\u001b[38;5;241m.\u001b[39mbeta_sequence)\n",
      "File \u001b[0;32m~/Documents/wd/TCR-DeepInsight/tcr_deep_insight/utils/_tcr_definitions.py:1636\u001b[0m, in \u001b[0;36mTCR.fetch_cdr3a\u001b[0;34m(self, seq)\u001b[0m\n\u001b[1;32m   1635\u001b[0m \u001b[38;5;28;01mdef\u001b[39;00m \u001b[38;5;21mfetch_cdr3a\u001b[39m(\u001b[38;5;28mself\u001b[39m, seq):\n\u001b[0;32m-> 1636\u001b[0m     seq \u001b[38;5;241m=\u001b[39m seq[:seq\u001b[38;5;241m.\u001b[39mindex(\u001b[38;5;28;43mself\u001b[39;49m\u001b[38;5;241;43m.\u001b[39;49m\u001b[43malpha_j_motif\u001b[49m)\u001b[38;5;241m+\u001b[39m\u001b[38;5;28mlen\u001b[39m(\u001b[38;5;28mself\u001b[39m\u001b[38;5;241m.\u001b[39malpha_j_motif)]\n\u001b[1;32m   1637\u001b[0m     seq \u001b[38;5;241m=\u001b[39m seq[::\u001b[38;5;241m-\u001b[39m\u001b[38;5;241m1\u001b[39m]\n\u001b[1;32m   1638\u001b[0m     cdr3 \u001b[38;5;241m=\u001b[39m \u001b[38;5;124m'\u001b[39m\u001b[38;5;124m'\u001b[39m\n",
      "\u001b[0;31mAttributeError\u001b[0m: 'TCR' object has no attribute 'alpha_j_motif'"
     ]
    }
   ],
   "source": [
    "TCR(data['tcr_sequence'])"
   ]
  },
  {
   "cell_type": "code",
   "execution_count": 16,
   "metadata": {},
   "outputs": [
    {
     "name": "stdout",
     "output_type": "stream",
     "text": [
      "4grl_human_tcr_only_4grl_human_pmhc_only_DQA1-01_DQB1-05.pkl\n",
      "4ozh_human_tcr_only_4ozh_human_pmhc_only_DQA1-05_DQB1-02.pkl\n",
      "5ksb_human_tcr_only_5ksb_human_pmhc_only_DQA1-05_DQB1-03.pkl\n",
      "4ozi_human_tcr_only_4ozi_human_pmhc_only_DQA1-05_DQB1-02.pkl\n",
      "5ks9_human_tcr_only_5ks9_human_pmhc_only_DQA1-03_DQB1-03.pkl\n",
      "6py2_human_tcr_only_6py2_human_pmhc_only_DQA1-02_DQB1-02.pkl\n",
      "4z7w_human_tcr_only_4z7w_human_pmhc_only_DQA1-03_DQB1-03.pkl\n",
      "4z7v_human_tcr_only_4z7v_human_pmhc_only_DQA1-03_DQB1-03.pkl\n",
      "4may_human_tcr_only_4may_human_pmhc_only_DQA1-01_DQB1-05.pkl\n",
      "4ozg_human_tcr_only_4ozg_human_pmhc_only_DQA1-05_DQB1-02.pkl\n",
      "4ozf_human_tcr_only_4ozf_human_pmhc_only_DQA1-05_DQB1-02.pkl\n",
      "3pl6_human_tcr_only_3pl6_human_pmhc_only_DQA1-01_DQB1-05.pkl\n",
      "4z7u_human_tcr_only_4z7u_human_pmhc_only_DQA1-03_DQB1-03.pkl\n",
      "6dfx_human_tcr_only_6dfx_human_pmhc_only_DQA1-03_DQB1-03.pkl\n",
      "6u3o_human_tcr_only_6u3o_human_pmhc_only_DQA1-05_DQB1-02.pkl\n",
      "6u3n_human_tcr_only_6u3n_human_pmhc_only_DQA1-05_DQB1-02.pkl\n",
      "6px6_human_tcr_only_6px6_human_pmhc_only_DQA1-02_DQB1-02.pkl\n",
      "5ksa_human_tcr_only_5ksa_human_pmhc_only_DQA1-05_DQB1-03.pkl\n",
      "4gg6_human_tcr_only_4gg6_human_pmhc_only_DQA1-03_DQB1-03.pkl\n"
     ]
    }
   ],
   "source": [
    "from tcr_deep_insight.utils._tcr_definitions import (\n",
    "    _get_hla_pseudo_sequence,\n",
    "    blosum_align,\n",
    "    HLA_I_PSEUDO_INDEX,\n",
    ")\n",
    "\n",
    "import pickle\n",
    "for i in os.listdir(\"/Volumes/rsch/TCRFoldAndDock/TCRFold/processed_pairing_data/\"):\n",
    "    with open(\"/Volumes/rsch/TCRFoldAndDock/TCRFold/processed_pairing_data/\" + i, \"rb\") as f:\n",
    "        data = pickle.load(f)\n",
    "\n",
    "    if 'tcr_pmhc_pseudo_distogram' in data.keys():\n",
    "        if data['tcr_pmhc_pseudo_distogram'].shape[1] == 110:\n",
    "            continue\n",
    "\n",
    "    hla_pseudo_sequence = _get_hla_pseudo_sequence()\n",
    "\n",
    "    try:\n",
    "        alignment = blosum_align(\n",
    "            hla_pseudo_sequence[\"A*02:01\"][\"fullsequence\"], data[\"pmhc_sequence\"]\n",
    "        )\n",
    "        indices = [alignment[i] for i in HLA_I_PSEUDO_INDEX]\n",
    "    except:\n",
    "        print(i)\n",
    "        continue\n",
    "\n",
    "    tcr_pmhc_distogram = np.zeros((110, len(HLA_I_PSEUDO_INDEX) + 17, 64))\n",
    "\n",
    "    indices = [alignment[i] for i in HLA_I_PSEUDO_INDEX]\n",
    "\n",
    "    distogram = data[\"cdr1a_mhc_ca_distogram\"][:, list(indices)]\n",
    "    tcr_pmhc_distogram[\n",
    "        1 + 0 : 1 + distogram.shape[0], \n",
    "        1 + 0 : 1 + distogram.shape[1]\n",
    "    ] = distogram\n",
    "\n",
    "    distogram = data[\"cdr2a_mhc_ca_distogram\"][:, list(indices)]\n",
    "    tcr_pmhc_distogram[\n",
    "        1 + 8 + 1 : 1 + 8 + 1 + distogram.shape[0], \n",
    "        1 + 0 : 1 + distogram.shape[1]\n",
    "    ] = distogram\n",
    "\n",
    "    distogram = data[\"cdr3a_mhc_ca_distogram\"][:, list(indices)]\n",
    "    tcr_pmhc_distogram[\n",
    "        1 + 16 + 2 : 1 + 16 + 2 + distogram.shape[0], \n",
    "        1 + 0 : 1 + distogram.shape[1]\n",
    "    ] = data[\"cdr3a_mhc_ca_distogram\"][:, list(indices)]\n",
    "\n",
    "    distogram = data[\"cdr1b_mhc_ca_distogram\"][:, list(indices)]\n",
    "    tcr_pmhc_distogram[\n",
    "        1 + 52 + 3 : 1 + 52 + 3 + distogram.shape[0], \n",
    "        1 + 0 : 1 + distogram.shape[1]\n",
    "    ] = distogram\n",
    "\n",
    "    distogram = data[\"cdr2b_mhc_ca_distogram\"][:, list(indices)]\n",
    "    tcr_pmhc_distogram[\n",
    "        1 + 60 + 4 : 1 + 60 + 4 + distogram.shape[0], \n",
    "        1 + 0 : 1 + distogram.shape[1]\n",
    "    ] = distogram\n",
    "\n",
    "    distogram = data[\"cdr3b_mhc_ca_distogram\"][:, list(indices)]\n",
    "    tcr_pmhc_distogram[\n",
    "        1 + 68 + 5 : 1 + 68 + 5 + distogram.shape[0], \n",
    "        1 + 0 : 1 + distogram.shape[1]\n",
    "    ] = data[\"cdr3b_mhc_ca_distogram\"][:, list(indices)]\n",
    "\n",
    "    distogram = data[\"cdr1a_peptide_ca_distogram\"]\n",
    "    tcr_pmhc_distogram[\n",
    "        1 + 0 : 1 + distogram.shape[0],\n",
    "        1 + len(HLA_I_PSEUDO_INDEX) + 1 : 1 + len(HLA_I_PSEUDO_INDEX) + 1 + distogram.shape[1],\n",
    "    ] = distogram\n",
    "\n",
    "    distogram = data[\"cdr2a_peptide_ca_distogram\"]\n",
    "    tcr_pmhc_distogram[\n",
    "        1 + 8 + 1 : 1 + 8 + 1 + distogram.shape[0],\n",
    "        1 + len(HLA_I_PSEUDO_INDEX) + 1 : 1 + len(HLA_I_PSEUDO_INDEX) + 1 + distogram.shape[1],\n",
    "    ] = distogram\n",
    "\n",
    "    distogram = data[\"cdr3a_peptide_ca_distogram\"]\n",
    "    tcr_pmhc_distogram[\n",
    "        1 + 16 + 2 : 1 + 16 + 2 + distogram.shape[0],\n",
    "        1 + len(HLA_I_PSEUDO_INDEX) + 1 : 1 + len(HLA_I_PSEUDO_INDEX) + 1 + distogram.shape[1],\n",
    "    ] = data[\"cdr3a_peptide_ca_distogram\"]\n",
    "\n",
    "    distogram = data[\"cdr1b_peptide_ca_distogram\"]\n",
    "    tcr_pmhc_distogram[\n",
    "        1 + 52 + 3 : 1 + 52 + 3 + distogram.shape[0],\n",
    "        1 + len(HLA_I_PSEUDO_INDEX) + 1 : 1 + len(HLA_I_PSEUDO_INDEX) + 1 + distogram.shape[1],\n",
    "    ] = distogram\n",
    "\n",
    "    distogram = data[\"cdr2b_peptide_ca_distogram\"]\n",
    "    tcr_pmhc_distogram[\n",
    "        1 + 60 + 4 : 1 + 60 + 4 + distogram.shape[0],\n",
    "        1 + len(HLA_I_PSEUDO_INDEX) + 1 : 1 + len(HLA_I_PSEUDO_INDEX) + 1 + distogram.shape[1],\n",
    "    ] = distogram\n",
    "\n",
    "    distogram = data[\"cdr3b_peptide_ca_distogram\"]\n",
    "    tcr_pmhc_distogram[\n",
    "        1 + 68 + 5 : 1 + 68 + 5 + distogram.shape[0],\n",
    "        1 + len(HLA_I_PSEUDO_INDEX) + 1 : 1 + len(HLA_I_PSEUDO_INDEX) + 1 + distogram.shape[1],\n",
    "    ] = data[\"cdr3b_peptide_ca_distogram\"]\n",
    "\n",
    "    data['tcr_pmhc_pseudo_distogram'] = tcr_pmhc_distogram\n",
    "\n",
    "    with open(\"/Volumes/rsch/TCRFoldAndDock/TCRFold/processed_pairing_data/\" + i, \"wb\") as f:\n",
    "        pickle.dump(data, f)\n",
    "\n",
    "\n"
   ]
  },
  {
   "cell_type": "code",
   "execution_count": 13,
   "metadata": {},
   "outputs": [
    {
     "ename": "KeyError",
     "evalue": "'tcr_pmhc_pseudo_distogram'",
     "output_type": "error",
     "traceback": [
      "\u001b[0;31m---------------------------------------------------------------------------\u001b[0m",
      "\u001b[0;31mKeyError\u001b[0m                                  Traceback (most recent call last)",
      "Input \u001b[0;32mIn [13]\u001b[0m, in \u001b[0;36m<module>\u001b[0;34m\u001b[0m\n\u001b[0;32m----> 1\u001b[0m \u001b[43mdata\u001b[49m\u001b[43m[\u001b[49m\u001b[38;5;124;43m'\u001b[39;49m\u001b[38;5;124;43mtcr_pmhc_pseudo_distogram\u001b[39;49m\u001b[38;5;124;43m'\u001b[39;49m\u001b[43m]\u001b[49m\u001b[38;5;241m.\u001b[39mshape\n",
      "\u001b[0;31mKeyError\u001b[0m: 'tcr_pmhc_pseudo_distogram'"
     ]
    }
   ],
   "source": [
    "data['tcr_pmhc_pseudo_distogram'].shape"
   ]
  },
  {
   "cell_type": "code",
   "execution_count": 6,
   "metadata": {},
   "outputs": [],
   "source": [
    "import pickle\n",
    "import numpy as np \n",
    "from tcr_deep_insight.utils._tcr_definitions import (\n",
    "    _get_hla_pseudo_sequence,\n",
    "    blosum_align,\n",
    "    HLA_I_PSEUDO_INDEX,\n",
    ")\n",
    "\n",
    "with open(\"/Volumes/rsch/TCRFoldAndDock/TCRFold/processed_pairing_data/1ao7_human_tcr_only_1ao7_human_pmhc_only_A02:01.pkl\", \"rb\") as f:\n",
    "    data = pickle.load(f)\n",
    "\n",
    "hla_pseudo_sequence = _get_hla_pseudo_sequence()\n",
    "\n",
    "pmhc_pseudoseq = hla_pseudo_sequence[\"A*02:01\"][\"pseudosequence\"] + ':' + data['peptide']\n",
    "tcr_pseudoseq = ':'.join([\n",
    "    data[k] for k in ['cdr1a',  'cdr2a', 'cdr3a', 'cdr1b','cdr2b', 'cdr3b']\n",
    "])\n",
    "\n",
    "tcr_sequence, tcr_input_ids, tcr_attention_mask = tokenize_tcr_pseudo_sequence_to_fixed_length(tcr_pseudoseq)\n",
    "tcr_input_ids = np.array(tcr_input_ids)\n",
    "tcr_attention_mask = np.array(tcr_attention_mask)\n",
    "\n",
    "pmhc_sequence, pmhc_input_ids, pmhc_attention_mask = tokenize_to_fixed_length(pmhc_pseudoseq, 50)\n",
    "pmhc_input_ids = np.array(pmhc_input_ids)\n",
    "pmhc_attention_mask = np.array(pmhc_attention_mask)"
   ]
  },
  {
   "cell_type": "code",
   "execution_count": 15,
   "metadata": {},
   "outputs": [
    {
     "data": {
      "text/plain": [
       "'^YFAMYGEKVAHTHVDTLYVRYHYYTWAVLAYTWY:EDFVYQFKGMCYFTNGTERVRLVTRYIYNREEYARFDSDVGVYRAVTPLGPPAAEYWNSQKEVLERTRAELDTVCRHNYQLELRTTLQRGEGSFQPSQEN'"
      ]
     },
     "execution_count": 15,
     "metadata": {},
     "output_type": "execute_result"
    }
   ],
   "source": [
    "import torch\n",
    "pad_token = '.'\n",
    "max_length = {\n",
    "    'CDR3a': 36,\n",
    "    'CDR3b': 36,\n",
    "    'CDR1b': 6,\n",
    "    'CDR2b': 8,\n",
    "    'CDR1a': 6,\n",
    "    'CDR2a': 8,\n",
    "}\n",
    "cdr1a, cdr2a, cdr3a, cdr1b, cdr2b, cdr3b = tcr_pseudoseq.split(':')\n",
    "\n",
    "cdr1a = cdr1a + pad_token * (max_length['CDR1a'] - len(cdr1a))\n",
    "cdr2a = cdr2a + pad_token * (max_length['CDR2a'] - len(cdr2a))\n",
    "cdr1b = cdr1b + pad_token * (max_length['CDR1b'] - len(cdr1b))\n",
    "cdr2b = cdr2b + pad_token * (max_length['CDR2b'] - len(cdr2b))\n",
    "cdr3a = cdr3a + pad_token * (max_length['CDR3a'] - len(cdr3a))\n",
    "cdr3b = cdr3b + pad_token * (max_length['CDR3b'] - len(cdr3b))\n",
    "\n",
    "tcr_pmhc_distogram_df = pd.DataFrame(\n",
    "    torch.tensor(tcr_pmhc_distogram).topk(1)[1].squeeze().numpy(),\n",
    "    index=list(\"^\" + \":\".join([cdr1a, cdr2a, cdr3a, cdr1b, cdr2b, cdr3b])),\n",
    "    columns=list(pmhc_sequence),\n",
    ")\n",
    "\n",
    "sns.heatmap(tcr_pmhc_distogram_df)"
   ]
  },
  {
   "cell_type": "code",
   "execution_count": 7,
   "metadata": {},
   "outputs": [],
   "source": [
    "import torch\n",
    "head = TCRpMHCPairAttention(config)\n",
    "\n",
    "tcr_input_ids = torch.from_numpy(tcr_input_ids).unsqueeze(0)\n",
    "tcr_attention_mask = torch.from_numpy(tcr_attention_mask).unsqueeze(0).to(torch.float32)\n",
    "\n",
    "tcr_output = model(\n",
    "    input_ids=tcr_input_ids,\n",
    "    attention_mask=tcr_attention_mask,\n",
    "    labels=tcr_input_ids\n",
    ")\n",
    "\n",
    "tcr_hidden_states = tcr_output[\"output\"].hidden_states[-1]"
   ]
  },
  {
   "cell_type": "code",
   "execution_count": 8,
   "metadata": {},
   "outputs": [],
   "source": [
    "self=head\n",
    "\n",
    "pmhc_input_ids = torch.from_numpy(pmhc_input_ids).unsqueeze(0)\n",
    "pmhc_attention_mask = torch.from_numpy(pmhc_attention_mask).unsqueeze(0).to(torch.float32)\n",
    "\n",
    "output = self.model.forward(\n",
    "    input_ids=pmhc_input_ids,\n",
    "    attention_mask=pmhc_attention_mask.to(torch.float32),\n",
    "    return_dict=True,\n",
    "    output_hidden_states=True,\n",
    ")\n",
    "\n",
    "pmhc_hidden_states = output['hidden_states'][-1]"
   ]
  },
  {
   "cell_type": "code",
   "execution_count": 9,
   "metadata": {},
   "outputs": [
    {
     "data": {
      "text/plain": [
       "(torch.Size([1, 106, 51, 128]), torch.Size([1, 106, 51]))"
      ]
     },
     "execution_count": 9,
     "metadata": {},
     "output_type": "execute_result"
    }
   ],
   "source": [
    "z, z_mask = self.embedder(\n",
    "    tcr_hidden_states,\n",
    "    pmhc_hidden_states,\n",
    "    tcr_attention_mask.to(torch.float32),\n",
    "    pmhc_attention_mask.to(torch.float32)\n",
    ")\n",
    "z.shape, z_mask.shape"
   ]
  },
  {
   "cell_type": "code",
   "execution_count": 10,
   "metadata": {},
   "outputs": [
    {
     "data": {
      "text/plain": [
       "(torch.Size([1, 106, 128]),\n",
       " torch.Size([1, 51, 128]),\n",
       " torch.Size([1, 106]),\n",
       " torch.Size([1, 51]),\n",
       " torch.Size([1, 106, 51, 128]))"
      ]
     },
     "execution_count": 10,
     "metadata": {},
     "output_type": "execute_result"
    }
   ],
   "source": [
    "tcr_hidden_states.shape, pmhc_hidden_states.shape, tcr_attention_mask.shape, pmhc_attention_mask.shape, z.shape"
   ]
  },
  {
   "cell_type": "code",
   "execution_count": null,
   "metadata": {},
   "outputs": [],
   "source": []
  },
  {
   "cell_type": "code",
   "execution_count": 11,
   "metadata": {},
   "outputs": [
    {
     "ename": "EinopsError",
     "evalue": " Error while processing rearrange-reduction pattern \"batch h c k -> batch h k c\".\n Input tensor shape: torch.Size([1, 106, 2, 51, 128]). Additional info: {}.\n Expected 4 dimensions, got 5",
     "output_type": "error",
     "traceback": [
      "\u001b[0;31m---------------------------------------------------------------------------\u001b[0m",
      "\u001b[0;31mEinopsError\u001b[0m                               Traceback (most recent call last)",
      "File \u001b[0;32m/usr/local/lib/python3.9/site-packages/einops/einops.py:410\u001b[0m, in \u001b[0;36mreduce\u001b[0;34m(tensor, pattern, reduction, **axes_lengths)\u001b[0m\n\u001b[1;32m    409\u001b[0m     recipe \u001b[38;5;241m=\u001b[39m _prepare_transformation_recipe(pattern, reduction, axes_lengths\u001b[38;5;241m=\u001b[39mhashable_axes_lengths)\n\u001b[0;32m--> 410\u001b[0m     \u001b[38;5;28;01mreturn\u001b[39;00m \u001b[43m_apply_recipe\u001b[49m\u001b[43m(\u001b[49m\u001b[43mrecipe\u001b[49m\u001b[43m,\u001b[49m\u001b[43m \u001b[49m\u001b[43mtensor\u001b[49m\u001b[43m,\u001b[49m\u001b[43m \u001b[49m\u001b[43mreduction_type\u001b[49m\u001b[38;5;241;43m=\u001b[39;49m\u001b[43mreduction\u001b[49m\u001b[43m)\u001b[49m\n\u001b[1;32m    411\u001b[0m \u001b[38;5;28;01mexcept\u001b[39;00m EinopsError \u001b[38;5;28;01mas\u001b[39;00m e:\n",
      "File \u001b[0;32m/usr/local/lib/python3.9/site-packages/einops/einops.py:233\u001b[0m, in \u001b[0;36m_apply_recipe\u001b[0;34m(recipe, tensor, reduction_type)\u001b[0m\n\u001b[1;32m    231\u001b[0m backend \u001b[38;5;241m=\u001b[39m get_backend(tensor)\n\u001b[1;32m    232\u001b[0m init_shapes, reduced_axes, axes_reordering, added_axes, final_shapes \u001b[38;5;241m=\u001b[39m \\\n\u001b[0;32m--> 233\u001b[0m     \u001b[43m_reconstruct_from_shape\u001b[49m\u001b[43m(\u001b[49m\u001b[43mrecipe\u001b[49m\u001b[43m,\u001b[49m\u001b[43m \u001b[49m\u001b[43mbackend\u001b[49m\u001b[38;5;241;43m.\u001b[39;49m\u001b[43mshape\u001b[49m\u001b[43m(\u001b[49m\u001b[43mtensor\u001b[49m\u001b[43m)\u001b[49m\u001b[43m)\u001b[49m\n\u001b[1;32m    234\u001b[0m tensor \u001b[38;5;241m=\u001b[39m backend\u001b[38;5;241m.\u001b[39mreshape(tensor, init_shapes)\n",
      "File \u001b[0;32m/usr/local/lib/python3.9/site-packages/einops/einops.py:163\u001b[0m, in \u001b[0;36m_reconstruct_from_shape_uncached\u001b[0;34m(self, shape)\u001b[0m\n\u001b[1;32m    162\u001b[0m     \u001b[38;5;28;01mif\u001b[39;00m \u001b[38;5;28mlen\u001b[39m(shape) \u001b[38;5;241m!=\u001b[39m \u001b[38;5;28mlen\u001b[39m(\u001b[38;5;28mself\u001b[39m\u001b[38;5;241m.\u001b[39minput_composite_axes):\n\u001b[0;32m--> 163\u001b[0m         \u001b[38;5;28;01mraise\u001b[39;00m EinopsError(\u001b[38;5;124m'\u001b[39m\u001b[38;5;124mExpected \u001b[39m\u001b[38;5;132;01m{}\u001b[39;00m\u001b[38;5;124m dimensions, got \u001b[39m\u001b[38;5;132;01m{}\u001b[39;00m\u001b[38;5;124m'\u001b[39m\u001b[38;5;241m.\u001b[39mformat(\u001b[38;5;28mlen\u001b[39m(\u001b[38;5;28mself\u001b[39m\u001b[38;5;241m.\u001b[39minput_composite_axes), \u001b[38;5;28mlen\u001b[39m(shape)))\n\u001b[1;32m    165\u001b[0m ellipsis_shape: List[\u001b[38;5;28mint\u001b[39m] \u001b[38;5;241m=\u001b[39m []\n",
      "\u001b[0;31mEinopsError\u001b[0m: Expected 4 dimensions, got 5",
      "\nDuring handling of the above exception, another exception occurred:\n",
      "\u001b[0;31mEinopsError\u001b[0m                               Traceback (most recent call last)",
      "Input \u001b[0;32mIn [11]\u001b[0m, in \u001b[0;36m<module>\u001b[0;34m\u001b[0m\n\u001b[0;32m----> 1\u001b[0m \u001b[38;5;28;43mself\u001b[39;49m\u001b[38;5;241;43m.\u001b[39;49m\u001b[43mlayers\u001b[49m\u001b[43m[\u001b[49m\u001b[38;5;241;43m0\u001b[39;49m\u001b[43m]\u001b[49m\u001b[43m(\u001b[49m\n\u001b[1;32m      2\u001b[0m \u001b[43m    \u001b[49m\u001b[43mz\u001b[49m\u001b[43m,\u001b[49m\u001b[43m \u001b[49m\n\u001b[1;32m      3\u001b[0m \u001b[43m    \u001b[49m\u001b[43mtcr_hidden_states\u001b[49m\u001b[43m,\u001b[49m\u001b[43m \u001b[49m\n\u001b[1;32m      4\u001b[0m \u001b[43m    \u001b[49m\u001b[43mpmhc_hidden_states\u001b[49m\u001b[43m,\u001b[49m\u001b[43m \u001b[49m\n\u001b[1;32m      5\u001b[0m \u001b[43m    \u001b[49m\u001b[43mtcr_attention_mask\u001b[49m\u001b[43m,\u001b[49m\u001b[43m \u001b[49m\n\u001b[1;32m      6\u001b[0m \u001b[43m    \u001b[49m\u001b[43mpmhc_attention_mask\u001b[49m\n\u001b[1;32m      7\u001b[0m \u001b[43m)\u001b[49m\n",
      "File \u001b[0;32m/usr/local/lib/python3.9/site-packages/torch/nn/modules/module.py:1501\u001b[0m, in \u001b[0;36mModule._call_impl\u001b[0;34m(self, *args, **kwargs)\u001b[0m\n\u001b[1;32m   1496\u001b[0m \u001b[38;5;66;03m# If we don't have any hooks, we want to skip the rest of the logic in\u001b[39;00m\n\u001b[1;32m   1497\u001b[0m \u001b[38;5;66;03m# this function, and just call forward.\u001b[39;00m\n\u001b[1;32m   1498\u001b[0m \u001b[38;5;28;01mif\u001b[39;00m \u001b[38;5;129;01mnot\u001b[39;00m (\u001b[38;5;28mself\u001b[39m\u001b[38;5;241m.\u001b[39m_backward_hooks \u001b[38;5;129;01mor\u001b[39;00m \u001b[38;5;28mself\u001b[39m\u001b[38;5;241m.\u001b[39m_backward_pre_hooks \u001b[38;5;129;01mor\u001b[39;00m \u001b[38;5;28mself\u001b[39m\u001b[38;5;241m.\u001b[39m_forward_hooks \u001b[38;5;129;01mor\u001b[39;00m \u001b[38;5;28mself\u001b[39m\u001b[38;5;241m.\u001b[39m_forward_pre_hooks\n\u001b[1;32m   1499\u001b[0m         \u001b[38;5;129;01mor\u001b[39;00m _global_backward_pre_hooks \u001b[38;5;129;01mor\u001b[39;00m _global_backward_hooks\n\u001b[1;32m   1500\u001b[0m         \u001b[38;5;129;01mor\u001b[39;00m _global_forward_hooks \u001b[38;5;129;01mor\u001b[39;00m _global_forward_pre_hooks):\n\u001b[0;32m-> 1501\u001b[0m     \u001b[38;5;28;01mreturn\u001b[39;00m \u001b[43mforward_call\u001b[49m\u001b[43m(\u001b[49m\u001b[38;5;241;43m*\u001b[39;49m\u001b[43margs\u001b[49m\u001b[43m,\u001b[49m\u001b[43m \u001b[49m\u001b[38;5;241;43m*\u001b[39;49m\u001b[38;5;241;43m*\u001b[39;49m\u001b[43mkwargs\u001b[49m\u001b[43m)\u001b[49m\n\u001b[1;32m   1502\u001b[0m \u001b[38;5;66;03m# Do not call functions when jit is used\u001b[39;00m\n\u001b[1;32m   1503\u001b[0m full_backward_hooks, non_full_backward_hooks \u001b[38;5;241m=\u001b[39m [], []\n",
      "File \u001b[0;32m~/Documents/wd/TCR-DeepInsight/tcr_deep_insight/model/modeling_bert/_model.py:328\u001b[0m, in \u001b[0;36mTCRpMHCPairUpdateBlock.forward\u001b[0;34m(self, z, tcr_hidden_states, pmhc_hidden_states, tcr_attention_mask, pmhc_attention_mask)\u001b[0m\n\u001b[1;32m    315\u001b[0m \u001b[38;5;28;01mdef\u001b[39;00m \u001b[38;5;21mforward\u001b[39m(\u001b[38;5;28mself\u001b[39m,\n\u001b[1;32m    316\u001b[0m     z: torch\u001b[38;5;241m.\u001b[39mTensor,\n\u001b[1;32m    317\u001b[0m     tcr_hidden_states: torch\u001b[38;5;241m.\u001b[39mTensor,\n\u001b[0;32m   (...)\u001b[0m\n\u001b[1;32m    320\u001b[0m     pmhc_attention_mask: torch\u001b[38;5;241m.\u001b[39mTensor,\n\u001b[1;32m    321\u001b[0m ):\n\u001b[1;32m    322\u001b[0m     z \u001b[38;5;241m=\u001b[39m z \u001b[38;5;241m+\u001b[39m \u001b[38;5;28mself\u001b[39m\u001b[38;5;241m.\u001b[39mopm(\n\u001b[1;32m    323\u001b[0m         tcr_hidden_states, \n\u001b[1;32m    324\u001b[0m         pmhc_hidden_states, \n\u001b[1;32m    325\u001b[0m         tcr_attention_mask, \n\u001b[1;32m    326\u001b[0m         pmhc_attention_mask\n\u001b[1;32m    327\u001b[0m     )\n\u001b[0;32m--> 328\u001b[0m     z \u001b[38;5;241m=\u001b[39m z \u001b[38;5;241m+\u001b[39m \u001b[38;5;28;43mself\u001b[39;49m\u001b[38;5;241;43m.\u001b[39;49m\u001b[43mtri_att_start\u001b[49m\u001b[43m(\u001b[49m\u001b[43mz\u001b[49m\u001b[43m)\u001b[49m\n\u001b[1;32m    329\u001b[0m     z \u001b[38;5;241m=\u001b[39m z \u001b[38;5;241m+\u001b[39m \u001b[38;5;28mself\u001b[39m\u001b[38;5;241m.\u001b[39mtri_att_end(z)\n\u001b[1;32m    330\u001b[0m     z \u001b[38;5;241m=\u001b[39m z \u001b[38;5;241m+\u001b[39m \u001b[38;5;28mself\u001b[39m\u001b[38;5;241m.\u001b[39mtransition(z)\n",
      "File \u001b[0;32m/usr/local/lib/python3.9/site-packages/torch/nn/modules/module.py:1501\u001b[0m, in \u001b[0;36mModule._call_impl\u001b[0;34m(self, *args, **kwargs)\u001b[0m\n\u001b[1;32m   1496\u001b[0m \u001b[38;5;66;03m# If we don't have any hooks, we want to skip the rest of the logic in\u001b[39;00m\n\u001b[1;32m   1497\u001b[0m \u001b[38;5;66;03m# this function, and just call forward.\u001b[39;00m\n\u001b[1;32m   1498\u001b[0m \u001b[38;5;28;01mif\u001b[39;00m \u001b[38;5;129;01mnot\u001b[39;00m (\u001b[38;5;28mself\u001b[39m\u001b[38;5;241m.\u001b[39m_backward_hooks \u001b[38;5;129;01mor\u001b[39;00m \u001b[38;5;28mself\u001b[39m\u001b[38;5;241m.\u001b[39m_backward_pre_hooks \u001b[38;5;129;01mor\u001b[39;00m \u001b[38;5;28mself\u001b[39m\u001b[38;5;241m.\u001b[39m_forward_hooks \u001b[38;5;129;01mor\u001b[39;00m \u001b[38;5;28mself\u001b[39m\u001b[38;5;241m.\u001b[39m_forward_pre_hooks\n\u001b[1;32m   1499\u001b[0m         \u001b[38;5;129;01mor\u001b[39;00m _global_backward_pre_hooks \u001b[38;5;129;01mor\u001b[39;00m _global_backward_hooks\n\u001b[1;32m   1500\u001b[0m         \u001b[38;5;129;01mor\u001b[39;00m _global_forward_hooks \u001b[38;5;129;01mor\u001b[39;00m _global_forward_pre_hooks):\n\u001b[0;32m-> 1501\u001b[0m     \u001b[38;5;28;01mreturn\u001b[39;00m \u001b[43mforward_call\u001b[49m\u001b[43m(\u001b[49m\u001b[38;5;241;43m*\u001b[39;49m\u001b[43margs\u001b[49m\u001b[43m,\u001b[49m\u001b[43m \u001b[49m\u001b[38;5;241;43m*\u001b[39;49m\u001b[38;5;241;43m*\u001b[39;49m\u001b[43mkwargs\u001b[49m\u001b[43m)\u001b[49m\n\u001b[1;32m   1502\u001b[0m \u001b[38;5;66;03m# Do not call functions when jit is used\u001b[39;00m\n\u001b[1;32m   1503\u001b[0m full_backward_hooks, non_full_backward_hooks \u001b[38;5;241m=\u001b[39m [], []\n",
      "File \u001b[0;32m~/Documents/wd/TCR-DeepInsight/tcr_deep_insight/model/modeling_bert/_layers.py:429\u001b[0m, in \u001b[0;36mTriangleAttention.forward\u001b[0;34m(self, x, mask)\u001b[0m\n\u001b[1;32m    425\u001b[0m mask_bias \u001b[38;5;241m=\u001b[39m (\u001b[38;5;28mself\u001b[39m\u001b[38;5;241m.\u001b[39minf \u001b[38;5;241m*\u001b[39m (mask \u001b[38;5;241m-\u001b[39m \u001b[38;5;241m1\u001b[39m))[\u001b[38;5;241m.\u001b[39m\u001b[38;5;241m.\u001b[39m\u001b[38;5;241m.\u001b[39m, :, \u001b[38;5;28;01mNone\u001b[39;00m, \u001b[38;5;28;01mNone\u001b[39;00m, :]\n\u001b[1;32m    427\u001b[0m biases \u001b[38;5;241m=\u001b[39m [mask_bias]\n\u001b[0;32m--> 429\u001b[0m x \u001b[38;5;241m=\u001b[39m \u001b[38;5;28;43mself\u001b[39;49m\u001b[38;5;241;43m.\u001b[39;49m\u001b[43mmha\u001b[49m\u001b[43m(\u001b[49m\n\u001b[1;32m    430\u001b[0m \u001b[43m    \u001b[49m\u001b[43mq_x\u001b[49m\u001b[38;5;241;43m=\u001b[39;49m\u001b[43mx\u001b[49m\u001b[43m,\u001b[49m\u001b[43m \u001b[49m\n\u001b[1;32m    431\u001b[0m \u001b[43m    \u001b[49m\u001b[43mkv_x\u001b[49m\u001b[38;5;241;43m=\u001b[39;49m\u001b[43mx\u001b[49m\u001b[43m,\u001b[49m\u001b[43m \u001b[49m\n\u001b[1;32m    432\u001b[0m \u001b[43m    \u001b[49m\u001b[43mbiases\u001b[49m\u001b[38;5;241;43m=\u001b[39;49m\u001b[43mbiases\u001b[49m\u001b[43m,\u001b[49m\u001b[43m \u001b[49m\n\u001b[1;32m    433\u001b[0m \u001b[43m\u001b[49m\u001b[43m)\u001b[49m\n\u001b[1;32m    435\u001b[0m \u001b[38;5;28;01mif\u001b[39;00m(\u001b[38;5;129;01mnot\u001b[39;00m \u001b[38;5;28mself\u001b[39m\u001b[38;5;241m.\u001b[39mstarting):\n\u001b[1;32m    436\u001b[0m     x \u001b[38;5;241m=\u001b[39m x\u001b[38;5;241m.\u001b[39mtranspose(\u001b[38;5;241m-\u001b[39m\u001b[38;5;241m2\u001b[39m, \u001b[38;5;241m-\u001b[39m\u001b[38;5;241m3\u001b[39m)\n",
      "File \u001b[0;32m/usr/local/lib/python3.9/site-packages/torch/nn/modules/module.py:1501\u001b[0m, in \u001b[0;36mModule._call_impl\u001b[0;34m(self, *args, **kwargs)\u001b[0m\n\u001b[1;32m   1496\u001b[0m \u001b[38;5;66;03m# If we don't have any hooks, we want to skip the rest of the logic in\u001b[39;00m\n\u001b[1;32m   1497\u001b[0m \u001b[38;5;66;03m# this function, and just call forward.\u001b[39;00m\n\u001b[1;32m   1498\u001b[0m \u001b[38;5;28;01mif\u001b[39;00m \u001b[38;5;129;01mnot\u001b[39;00m (\u001b[38;5;28mself\u001b[39m\u001b[38;5;241m.\u001b[39m_backward_hooks \u001b[38;5;129;01mor\u001b[39;00m \u001b[38;5;28mself\u001b[39m\u001b[38;5;241m.\u001b[39m_backward_pre_hooks \u001b[38;5;129;01mor\u001b[39;00m \u001b[38;5;28mself\u001b[39m\u001b[38;5;241m.\u001b[39m_forward_hooks \u001b[38;5;129;01mor\u001b[39;00m \u001b[38;5;28mself\u001b[39m\u001b[38;5;241m.\u001b[39m_forward_pre_hooks\n\u001b[1;32m   1499\u001b[0m         \u001b[38;5;129;01mor\u001b[39;00m _global_backward_pre_hooks \u001b[38;5;129;01mor\u001b[39;00m _global_backward_hooks\n\u001b[1;32m   1500\u001b[0m         \u001b[38;5;129;01mor\u001b[39;00m _global_forward_hooks \u001b[38;5;129;01mor\u001b[39;00m _global_forward_pre_hooks):\n\u001b[0;32m-> 1501\u001b[0m     \u001b[38;5;28;01mreturn\u001b[39;00m \u001b[43mforward_call\u001b[49m\u001b[43m(\u001b[49m\u001b[38;5;241;43m*\u001b[39;49m\u001b[43margs\u001b[49m\u001b[43m,\u001b[49m\u001b[43m \u001b[49m\u001b[38;5;241;43m*\u001b[39;49m\u001b[38;5;241;43m*\u001b[39;49m\u001b[43mkwargs\u001b[49m\u001b[43m)\u001b[49m\n\u001b[1;32m   1502\u001b[0m \u001b[38;5;66;03m# Do not call functions when jit is used\u001b[39;00m\n\u001b[1;32m   1503\u001b[0m full_backward_hooks, non_full_backward_hooks \u001b[38;5;241m=\u001b[39m [], []\n",
      "File \u001b[0;32m~/Documents/wd/TCR-DeepInsight/tcr_deep_insight/model/modeling_bert/_layers.py:143\u001b[0m, in \u001b[0;36mAttention.forward\u001b[0;34m(self, q_x, kv_x, biases)\u001b[0m\n\u001b[1;32m    141\u001b[0m     biases \u001b[38;5;241m=\u001b[39m []\n\u001b[1;32m    142\u001b[0m q, k, v \u001b[38;5;241m=\u001b[39m \u001b[38;5;28mself\u001b[39m\u001b[38;5;241m.\u001b[39m_prep_qkv(q_x, kv_x)\n\u001b[0;32m--> 143\u001b[0m o \u001b[38;5;241m=\u001b[39m \u001b[43mAttention\u001b[49m\u001b[38;5;241;43m.\u001b[39;49m\u001b[43m_attention\u001b[49m\u001b[43m(\u001b[49m\u001b[43mq\u001b[49m\u001b[43m,\u001b[49m\u001b[43m \u001b[49m\u001b[43mk\u001b[49m\u001b[43m,\u001b[49m\u001b[43m \u001b[49m\u001b[43mv\u001b[49m\u001b[43m,\u001b[49m\u001b[43m \u001b[49m\u001b[43mbiases\u001b[49m\u001b[43m)\u001b[49m\n\u001b[1;32m    144\u001b[0m o \u001b[38;5;241m=\u001b[39m einops\u001b[38;5;241m.\u001b[39mrearrange(o, \u001b[38;5;124m'\u001b[39m\u001b[38;5;124mb h q c -> b q h c\u001b[39m\u001b[38;5;124m'\u001b[39m)\n\u001b[1;32m    145\u001b[0m o \u001b[38;5;241m=\u001b[39m \u001b[38;5;28mself\u001b[39m\u001b[38;5;241m.\u001b[39m_wrap_up(o, q_x)\n",
      "File \u001b[0;32m~/Documents/wd/TCR-DeepInsight/tcr_deep_insight/model/modeling_bert/_layers.py:65\u001b[0m, in \u001b[0;36mAttention._attention\u001b[0;34m(query, key, value, biases)\u001b[0m\n\u001b[1;32m     56\u001b[0m \u001b[38;5;129m@staticmethod\u001b[39m\n\u001b[1;32m     57\u001b[0m \u001b[38;5;28;01mdef\u001b[39;00m \u001b[38;5;21m_attention\u001b[39m(\n\u001b[1;32m     58\u001b[0m     query: torch\u001b[38;5;241m.\u001b[39mTensor,\n\u001b[0;32m   (...)\u001b[0m\n\u001b[1;32m     63\u001b[0m     \u001b[38;5;66;03m# [*, Head, C_hidden, K]\u001b[39;00m\n\u001b[1;32m     64\u001b[0m     \u001b[38;5;66;03m# equivalent to permute_final_dims(key, (1, 0))\u001b[39;00m\n\u001b[0;32m---> 65\u001b[0m     key \u001b[38;5;241m=\u001b[39m \u001b[43meinops\u001b[49m\u001b[38;5;241;43m.\u001b[39;49m\u001b[43mrearrange\u001b[49m\u001b[43m(\u001b[49m\u001b[43mkey\u001b[49m\u001b[43m,\u001b[49m\u001b[43m \u001b[49m\u001b[38;5;124;43m\"\u001b[39;49m\u001b[38;5;124;43mbatch h c k -> batch h k c\u001b[39;49m\u001b[38;5;124;43m\"\u001b[39;49m\u001b[43m)\u001b[49m\n\u001b[1;32m     67\u001b[0m     \u001b[38;5;66;03m# [*, Head, Q, K]\u001b[39;00m\n\u001b[1;32m     68\u001b[0m     a \u001b[38;5;241m=\u001b[39m torch\u001b[38;5;241m.\u001b[39mmatmul(query, key)\n",
      "File \u001b[0;32m/usr/local/lib/python3.9/site-packages/einops/einops.py:487\u001b[0m, in \u001b[0;36mrearrange\u001b[0;34m(tensor, pattern, **axes_lengths)\u001b[0m\n\u001b[1;32m    485\u001b[0m         \u001b[38;5;28;01mraise\u001b[39;00m \u001b[38;5;167;01mTypeError\u001b[39;00m(\u001b[38;5;124m\"\u001b[39m\u001b[38;5;124mRearrange can\u001b[39m\u001b[38;5;124m'\u001b[39m\u001b[38;5;124mt be applied to an empty list\u001b[39m\u001b[38;5;124m\"\u001b[39m)\n\u001b[1;32m    486\u001b[0m     tensor \u001b[38;5;241m=\u001b[39m get_backend(tensor[\u001b[38;5;241m0\u001b[39m])\u001b[38;5;241m.\u001b[39mstack_on_zeroth_dimension(tensor)\n\u001b[0;32m--> 487\u001b[0m \u001b[38;5;28;01mreturn\u001b[39;00m \u001b[43mreduce\u001b[49m\u001b[43m(\u001b[49m\u001b[43mtensor\u001b[49m\u001b[43m,\u001b[49m\u001b[43m \u001b[49m\u001b[43mpattern\u001b[49m\u001b[43m,\u001b[49m\u001b[43m \u001b[49m\u001b[43mreduction\u001b[49m\u001b[38;5;241;43m=\u001b[39;49m\u001b[38;5;124;43m'\u001b[39;49m\u001b[38;5;124;43mrearrange\u001b[39;49m\u001b[38;5;124;43m'\u001b[39;49m\u001b[43m,\u001b[49m\u001b[43m \u001b[49m\u001b[38;5;241;43m*\u001b[39;49m\u001b[38;5;241;43m*\u001b[39;49m\u001b[43maxes_lengths\u001b[49m\u001b[43m)\u001b[49m\n",
      "File \u001b[0;32m/usr/local/lib/python3.9/site-packages/einops/einops.py:418\u001b[0m, in \u001b[0;36mreduce\u001b[0;34m(tensor, pattern, reduction, **axes_lengths)\u001b[0m\n\u001b[1;32m    416\u001b[0m     message \u001b[38;5;241m+\u001b[39m\u001b[38;5;241m=\u001b[39m \u001b[38;5;124m'\u001b[39m\u001b[38;5;130;01m\\n\u001b[39;00m\u001b[38;5;124m Input is list. \u001b[39m\u001b[38;5;124m'\u001b[39m\n\u001b[1;32m    417\u001b[0m message \u001b[38;5;241m+\u001b[39m\u001b[38;5;241m=\u001b[39m \u001b[38;5;124m'\u001b[39m\u001b[38;5;124mAdditional info: \u001b[39m\u001b[38;5;132;01m{}\u001b[39;00m\u001b[38;5;124m.\u001b[39m\u001b[38;5;124m'\u001b[39m\u001b[38;5;241m.\u001b[39mformat(axes_lengths)\n\u001b[0;32m--> 418\u001b[0m \u001b[38;5;28;01mraise\u001b[39;00m EinopsError(message \u001b[38;5;241m+\u001b[39m \u001b[38;5;124m'\u001b[39m\u001b[38;5;130;01m\\n\u001b[39;00m\u001b[38;5;124m \u001b[39m\u001b[38;5;132;01m{}\u001b[39;00m\u001b[38;5;124m'\u001b[39m\u001b[38;5;241m.\u001b[39mformat(e))\n",
      "\u001b[0;31mEinopsError\u001b[0m:  Error while processing rearrange-reduction pattern \"batch h c k -> batch h k c\".\n Input tensor shape: torch.Size([1, 106, 2, 51, 128]). Additional info: {}.\n Expected 4 dimensions, got 5"
     ]
    }
   ],
   "source": [
    "self.layers[0](\n",
    "    z, \n",
    "    tcr_hidden_states, \n",
    "    pmhc_hidden_states, \n",
    "    tcr_attention_mask, \n",
    "    pmhc_attention_mask\n",
    ")"
   ]
  },
  {
   "cell_type": "code",
   "execution_count": 31,
   "metadata": {},
   "outputs": [
    {
     "ename": "EinopsError",
     "evalue": " Error while processing rearrange-reduction pattern \"b q (h c) -> b h q c\".\n Input tensor shape: torch.Size([1, 106, 51, 256]). Additional info: {'h': 2}.\n Expected 3 dimensions, got 4",
     "output_type": "error",
     "traceback": [
      "\u001b[0;31m---------------------------------------------------------------------------\u001b[0m",
      "\u001b[0;31mEinopsError\u001b[0m                               Traceback (most recent call last)",
      "File \u001b[0;32m/usr/local/lib/python3.9/site-packages/einops/einops.py:410\u001b[0m, in \u001b[0;36mreduce\u001b[0;34m(tensor, pattern, reduction, **axes_lengths)\u001b[0m\n\u001b[1;32m    409\u001b[0m     recipe \u001b[38;5;241m=\u001b[39m _prepare_transformation_recipe(pattern, reduction, axes_lengths\u001b[38;5;241m=\u001b[39mhashable_axes_lengths)\n\u001b[0;32m--> 410\u001b[0m     \u001b[38;5;28;01mreturn\u001b[39;00m \u001b[43m_apply_recipe\u001b[49m\u001b[43m(\u001b[49m\u001b[43mrecipe\u001b[49m\u001b[43m,\u001b[49m\u001b[43m \u001b[49m\u001b[43mtensor\u001b[49m\u001b[43m,\u001b[49m\u001b[43m \u001b[49m\u001b[43mreduction_type\u001b[49m\u001b[38;5;241;43m=\u001b[39;49m\u001b[43mreduction\u001b[49m\u001b[43m)\u001b[49m\n\u001b[1;32m    411\u001b[0m \u001b[38;5;28;01mexcept\u001b[39;00m EinopsError \u001b[38;5;28;01mas\u001b[39;00m e:\n",
      "File \u001b[0;32m/usr/local/lib/python3.9/site-packages/einops/einops.py:233\u001b[0m, in \u001b[0;36m_apply_recipe\u001b[0;34m(recipe, tensor, reduction_type)\u001b[0m\n\u001b[1;32m    231\u001b[0m backend \u001b[38;5;241m=\u001b[39m get_backend(tensor)\n\u001b[1;32m    232\u001b[0m init_shapes, reduced_axes, axes_reordering, added_axes, final_shapes \u001b[38;5;241m=\u001b[39m \\\n\u001b[0;32m--> 233\u001b[0m     \u001b[43m_reconstruct_from_shape\u001b[49m\u001b[43m(\u001b[49m\u001b[43mrecipe\u001b[49m\u001b[43m,\u001b[49m\u001b[43m \u001b[49m\u001b[43mbackend\u001b[49m\u001b[38;5;241;43m.\u001b[39;49m\u001b[43mshape\u001b[49m\u001b[43m(\u001b[49m\u001b[43mtensor\u001b[49m\u001b[43m)\u001b[49m\u001b[43m)\u001b[49m\n\u001b[1;32m    234\u001b[0m tensor \u001b[38;5;241m=\u001b[39m backend\u001b[38;5;241m.\u001b[39mreshape(tensor, init_shapes)\n",
      "File \u001b[0;32m/usr/local/lib/python3.9/site-packages/einops/einops.py:163\u001b[0m, in \u001b[0;36m_reconstruct_from_shape_uncached\u001b[0;34m(self, shape)\u001b[0m\n\u001b[1;32m    162\u001b[0m     \u001b[38;5;28;01mif\u001b[39;00m \u001b[38;5;28mlen\u001b[39m(shape) \u001b[38;5;241m!=\u001b[39m \u001b[38;5;28mlen\u001b[39m(\u001b[38;5;28mself\u001b[39m\u001b[38;5;241m.\u001b[39minput_composite_axes):\n\u001b[0;32m--> 163\u001b[0m         \u001b[38;5;28;01mraise\u001b[39;00m EinopsError(\u001b[38;5;124m'\u001b[39m\u001b[38;5;124mExpected \u001b[39m\u001b[38;5;132;01m{}\u001b[39;00m\u001b[38;5;124m dimensions, got \u001b[39m\u001b[38;5;132;01m{}\u001b[39;00m\u001b[38;5;124m'\u001b[39m\u001b[38;5;241m.\u001b[39mformat(\u001b[38;5;28mlen\u001b[39m(\u001b[38;5;28mself\u001b[39m\u001b[38;5;241m.\u001b[39minput_composite_axes), \u001b[38;5;28mlen\u001b[39m(shape)))\n\u001b[1;32m    165\u001b[0m ellipsis_shape: List[\u001b[38;5;28mint\u001b[39m] \u001b[38;5;241m=\u001b[39m []\n",
      "\u001b[0;31mEinopsError\u001b[0m: Expected 3 dimensions, got 4",
      "\nDuring handling of the above exception, another exception occurred:\n",
      "\u001b[0;31mEinopsError\u001b[0m                               Traceback (most recent call last)",
      "Input \u001b[0;32mIn [31]\u001b[0m, in \u001b[0;36m<module>\u001b[0;34m\u001b[0m\n\u001b[0;32m----> 1\u001b[0m \u001b[38;5;28;43mself\u001b[39;49m\u001b[38;5;241;43m.\u001b[39;49m\u001b[43mlayers\u001b[49m\u001b[43m[\u001b[49m\u001b[38;5;241;43m0\u001b[39;49m\u001b[43m]\u001b[49m\u001b[38;5;241;43m.\u001b[39;49m\u001b[43mtri_att_start\u001b[49m\u001b[38;5;241;43m.\u001b[39;49m\u001b[43mmha\u001b[49m\u001b[43m(\u001b[49m\u001b[43mz\u001b[49m\u001b[43m,\u001b[49m\u001b[43m \u001b[49m\u001b[43mz\u001b[49m\u001b[43m)\u001b[49m\n",
      "File \u001b[0;32m/usr/local/lib/python3.9/site-packages/torch/nn/modules/module.py:1501\u001b[0m, in \u001b[0;36mModule._call_impl\u001b[0;34m(self, *args, **kwargs)\u001b[0m\n\u001b[1;32m   1496\u001b[0m \u001b[38;5;66;03m# If we don't have any hooks, we want to skip the rest of the logic in\u001b[39;00m\n\u001b[1;32m   1497\u001b[0m \u001b[38;5;66;03m# this function, and just call forward.\u001b[39;00m\n\u001b[1;32m   1498\u001b[0m \u001b[38;5;28;01mif\u001b[39;00m \u001b[38;5;129;01mnot\u001b[39;00m (\u001b[38;5;28mself\u001b[39m\u001b[38;5;241m.\u001b[39m_backward_hooks \u001b[38;5;129;01mor\u001b[39;00m \u001b[38;5;28mself\u001b[39m\u001b[38;5;241m.\u001b[39m_backward_pre_hooks \u001b[38;5;129;01mor\u001b[39;00m \u001b[38;5;28mself\u001b[39m\u001b[38;5;241m.\u001b[39m_forward_hooks \u001b[38;5;129;01mor\u001b[39;00m \u001b[38;5;28mself\u001b[39m\u001b[38;5;241m.\u001b[39m_forward_pre_hooks\n\u001b[1;32m   1499\u001b[0m         \u001b[38;5;129;01mor\u001b[39;00m _global_backward_pre_hooks \u001b[38;5;129;01mor\u001b[39;00m _global_backward_hooks\n\u001b[1;32m   1500\u001b[0m         \u001b[38;5;129;01mor\u001b[39;00m _global_forward_hooks \u001b[38;5;129;01mor\u001b[39;00m _global_forward_pre_hooks):\n\u001b[0;32m-> 1501\u001b[0m     \u001b[38;5;28;01mreturn\u001b[39;00m \u001b[43mforward_call\u001b[49m\u001b[43m(\u001b[49m\u001b[38;5;241;43m*\u001b[39;49m\u001b[43margs\u001b[49m\u001b[43m,\u001b[49m\u001b[43m \u001b[49m\u001b[38;5;241;43m*\u001b[39;49m\u001b[38;5;241;43m*\u001b[39;49m\u001b[43mkwargs\u001b[49m\u001b[43m)\u001b[49m\n\u001b[1;32m   1502\u001b[0m \u001b[38;5;66;03m# Do not call functions when jit is used\u001b[39;00m\n\u001b[1;32m   1503\u001b[0m full_backward_hooks, non_full_backward_hooks \u001b[38;5;241m=\u001b[39m [], []\n",
      "File \u001b[0;32m~/Documents/wd/TCR-DeepInsight/tcr_deep_insight/model/modeling_bert/_layers.py:134\u001b[0m, in \u001b[0;36mAttention.forward\u001b[0;34m(self, q_x, kv_x, biases)\u001b[0m\n\u001b[1;32m    132\u001b[0m \u001b[38;5;28;01mif\u001b[39;00m biases \u001b[38;5;129;01mis\u001b[39;00m \u001b[38;5;28;01mNone\u001b[39;00m:\n\u001b[1;32m    133\u001b[0m     biases \u001b[38;5;241m=\u001b[39m []\n\u001b[0;32m--> 134\u001b[0m q, k, v \u001b[38;5;241m=\u001b[39m \u001b[38;5;28;43mself\u001b[39;49m\u001b[38;5;241;43m.\u001b[39;49m\u001b[43m_prep_qkv\u001b[49m\u001b[43m(\u001b[49m\u001b[43mq_x\u001b[49m\u001b[43m,\u001b[49m\u001b[43m \u001b[49m\u001b[43mkv_x\u001b[49m\u001b[43m)\u001b[49m\n\u001b[1;32m    135\u001b[0m o \u001b[38;5;241m=\u001b[39m Attention\u001b[38;5;241m.\u001b[39m_attention(q, k, v, biases)\n\u001b[1;32m    136\u001b[0m o \u001b[38;5;241m=\u001b[39m einops\u001b[38;5;241m.\u001b[39mrearrange(o, \u001b[38;5;124m'\u001b[39m\u001b[38;5;124mb h q c -> b q h c\u001b[39m\u001b[38;5;124m'\u001b[39m)\n",
      "File \u001b[0;32m~/Documents/wd/TCR-DeepInsight/tcr_deep_insight/model/modeling_bert/_layers.py:90\u001b[0m, in \u001b[0;36mAttention._prep_qkv\u001b[0;34m(self, q_x, kv_x)\u001b[0m\n\u001b[1;32m     87\u001b[0m v \u001b[38;5;241m=\u001b[39m \u001b[38;5;28mself\u001b[39m\u001b[38;5;241m.\u001b[39mlinear_v(kv_x)\n\u001b[1;32m     89\u001b[0m \u001b[38;5;66;03m# [*, Q/K, Head * C_hidden] -> [*, Head, Q/K, C_hidden]\u001b[39;00m\n\u001b[0;32m---> 90\u001b[0m q \u001b[38;5;241m=\u001b[39m \u001b[43meinops\u001b[49m\u001b[38;5;241;43m.\u001b[39;49m\u001b[43mrearrange\u001b[49m\u001b[43m(\u001b[49m\u001b[43mq\u001b[49m\u001b[43m,\u001b[49m\u001b[43m \u001b[49m\u001b[38;5;124;43m'\u001b[39;49m\u001b[38;5;124;43mb q (h c) -> b h q c\u001b[39;49m\u001b[38;5;124;43m'\u001b[39;49m\u001b[43m,\u001b[49m\u001b[43m \u001b[49m\u001b[43mh\u001b[49m\u001b[43m \u001b[49m\u001b[38;5;241;43m=\u001b[39;49m\u001b[43m \u001b[49m\u001b[38;5;28;43mself\u001b[39;49m\u001b[38;5;241;43m.\u001b[39;49m\u001b[43mnum_heads\u001b[49m\u001b[43m)\u001b[49m \n\u001b[1;32m     91\u001b[0m k \u001b[38;5;241m=\u001b[39m einops\u001b[38;5;241m.\u001b[39mrearrange(k, \u001b[38;5;124m'\u001b[39m\u001b[38;5;124mb k (h c) -> b h k c\u001b[39m\u001b[38;5;124m'\u001b[39m, h \u001b[38;5;241m=\u001b[39m \u001b[38;5;28mself\u001b[39m\u001b[38;5;241m.\u001b[39mnum_heads)    \n\u001b[1;32m     92\u001b[0m v \u001b[38;5;241m=\u001b[39m einops\u001b[38;5;241m.\u001b[39mrearrange(v, \u001b[38;5;124m'\u001b[39m\u001b[38;5;124mb v (h c) -> b h v c\u001b[39m\u001b[38;5;124m'\u001b[39m, h \u001b[38;5;241m=\u001b[39m \u001b[38;5;28mself\u001b[39m\u001b[38;5;241m.\u001b[39mnum_heads)\n",
      "File \u001b[0;32m/usr/local/lib/python3.9/site-packages/einops/einops.py:487\u001b[0m, in \u001b[0;36mrearrange\u001b[0;34m(tensor, pattern, **axes_lengths)\u001b[0m\n\u001b[1;32m    485\u001b[0m         \u001b[38;5;28;01mraise\u001b[39;00m \u001b[38;5;167;01mTypeError\u001b[39;00m(\u001b[38;5;124m\"\u001b[39m\u001b[38;5;124mRearrange can\u001b[39m\u001b[38;5;124m'\u001b[39m\u001b[38;5;124mt be applied to an empty list\u001b[39m\u001b[38;5;124m\"\u001b[39m)\n\u001b[1;32m    486\u001b[0m     tensor \u001b[38;5;241m=\u001b[39m get_backend(tensor[\u001b[38;5;241m0\u001b[39m])\u001b[38;5;241m.\u001b[39mstack_on_zeroth_dimension(tensor)\n\u001b[0;32m--> 487\u001b[0m \u001b[38;5;28;01mreturn\u001b[39;00m \u001b[43mreduce\u001b[49m\u001b[43m(\u001b[49m\u001b[43mtensor\u001b[49m\u001b[43m,\u001b[49m\u001b[43m \u001b[49m\u001b[43mpattern\u001b[49m\u001b[43m,\u001b[49m\u001b[43m \u001b[49m\u001b[43mreduction\u001b[49m\u001b[38;5;241;43m=\u001b[39;49m\u001b[38;5;124;43m'\u001b[39;49m\u001b[38;5;124;43mrearrange\u001b[39;49m\u001b[38;5;124;43m'\u001b[39;49m\u001b[43m,\u001b[49m\u001b[43m \u001b[49m\u001b[38;5;241;43m*\u001b[39;49m\u001b[38;5;241;43m*\u001b[39;49m\u001b[43maxes_lengths\u001b[49m\u001b[43m)\u001b[49m\n",
      "File \u001b[0;32m/usr/local/lib/python3.9/site-packages/einops/einops.py:418\u001b[0m, in \u001b[0;36mreduce\u001b[0;34m(tensor, pattern, reduction, **axes_lengths)\u001b[0m\n\u001b[1;32m    416\u001b[0m     message \u001b[38;5;241m+\u001b[39m\u001b[38;5;241m=\u001b[39m \u001b[38;5;124m'\u001b[39m\u001b[38;5;130;01m\\n\u001b[39;00m\u001b[38;5;124m Input is list. \u001b[39m\u001b[38;5;124m'\u001b[39m\n\u001b[1;32m    417\u001b[0m message \u001b[38;5;241m+\u001b[39m\u001b[38;5;241m=\u001b[39m \u001b[38;5;124m'\u001b[39m\u001b[38;5;124mAdditional info: \u001b[39m\u001b[38;5;132;01m{}\u001b[39;00m\u001b[38;5;124m.\u001b[39m\u001b[38;5;124m'\u001b[39m\u001b[38;5;241m.\u001b[39mformat(axes_lengths)\n\u001b[0;32m--> 418\u001b[0m \u001b[38;5;28;01mraise\u001b[39;00m EinopsError(message \u001b[38;5;241m+\u001b[39m \u001b[38;5;124m'\u001b[39m\u001b[38;5;130;01m\\n\u001b[39;00m\u001b[38;5;124m \u001b[39m\u001b[38;5;132;01m{}\u001b[39;00m\u001b[38;5;124m'\u001b[39m\u001b[38;5;241m.\u001b[39mformat(e))\n",
      "\u001b[0;31mEinopsError\u001b[0m:  Error while processing rearrange-reduction pattern \"b q (h c) -> b h q c\".\n Input tensor shape: torch.Size([1, 106, 51, 256]). Additional info: {'h': 2}.\n Expected 3 dimensions, got 4"
     ]
    }
   ],
   "source": [
    "self.layers[0].tri_att_start.mha(z, z)"
   ]
  }
 ],
 "metadata": {
  "kernelspec": {
   "display_name": "Python 3",
   "language": "python",
   "name": "python3"
  },
  "language_info": {
   "codemirror_mode": {
    "name": "ipython",
    "version": 3
   },
   "file_extension": ".py",
   "mimetype": "text/x-python",
   "name": "python",
   "nbconvert_exporter": "python",
   "pygments_lexer": "ipython3",
   "version": "3.9.18"
  }
 },
 "nbformat": 4,
 "nbformat_minor": 2
}
